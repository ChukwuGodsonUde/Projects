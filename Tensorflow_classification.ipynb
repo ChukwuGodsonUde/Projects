{
  "nbformat": 4,
  "nbformat_minor": 0,
  "metadata": {
    "colab": {
      "provenance": [],
      "authorship_tag": "ABX9TyMMScX04QFXprNKKhsgvOvj",
      "include_colab_link": true
    },
    "kernelspec": {
      "name": "python3",
      "display_name": "Python 3"
    },
    "language_info": {
      "name": "python"
    }
  },
  "cells": [
    {
      "cell_type": "markdown",
      "metadata": {
        "id": "view-in-github",
        "colab_type": "text"
      },
      "source": [
        "<a href=\"https://colab.research.google.com/github/Chukwugude/Machine-Learning-projects/blob/main/Tensorflow_classification.ipynb\" target=\"_parent\"><img src=\"https://colab.research.google.com/assets/colab-badge.svg\" alt=\"Open In Colab\"/></a>"
      ]
    },
    {
      "cell_type": "code",
      "execution_count": null,
      "metadata": {
        "colab": {
          "base_uri": "https://localhost:8080/"
        },
        "id": "NK5brZANo75n",
        "outputId": "cb1e4894-806b-4d9a-86ba-b300de4f4448"
      },
      "outputs": [
        {
          "output_type": "stream",
          "name": "stdout",
          "text": [
            "2.15.0\n"
          ]
        }
      ],
      "source": [
        "import tensorflow as tf\n",
        "print(tf.__version__)"
      ]
    },
    {
      "cell_type": "code",
      "source": [
        "#load in the data\n",
        "from sklearn.datasets import load_breast_cancer"
      ],
      "metadata": {
        "id": "Ur5w7Dv-o9gA"
      },
      "execution_count": null,
      "outputs": []
    },
    {
      "cell_type": "code",
      "source": [
        "data = load_breast_cancer()"
      ],
      "metadata": {
        "id": "vg-gZi4EpAGe"
      },
      "execution_count": null,
      "outputs": []
    },
    {
      "cell_type": "code",
      "source": [
        "data"
      ],
      "metadata": {
        "colab": {
          "base_uri": "https://localhost:8080/"
        },
        "id": "AUqxmbYLpCdO",
        "outputId": "1fc009de-3e50-48c2-93c7-93e17f7a83c5"
      },
      "execution_count": null,
      "outputs": [
        {
          "output_type": "execute_result",
          "data": {
            "text/plain": [
              "{'data': array([[1.799e+01, 1.038e+01, 1.228e+02, ..., 2.654e-01, 4.601e-01,\n",
              "         1.189e-01],\n",
              "        [2.057e+01, 1.777e+01, 1.329e+02, ..., 1.860e-01, 2.750e-01,\n",
              "         8.902e-02],\n",
              "        [1.969e+01, 2.125e+01, 1.300e+02, ..., 2.430e-01, 3.613e-01,\n",
              "         8.758e-02],\n",
              "        ...,\n",
              "        [1.660e+01, 2.808e+01, 1.083e+02, ..., 1.418e-01, 2.218e-01,\n",
              "         7.820e-02],\n",
              "        [2.060e+01, 2.933e+01, 1.401e+02, ..., 2.650e-01, 4.087e-01,\n",
              "         1.240e-01],\n",
              "        [7.760e+00, 2.454e+01, 4.792e+01, ..., 0.000e+00, 2.871e-01,\n",
              "         7.039e-02]]),\n",
              " 'target': array([0, 0, 0, 0, 0, 0, 0, 0, 0, 0, 0, 0, 0, 0, 0, 0, 0, 0, 0, 1, 1, 1,\n",
              "        0, 0, 0, 0, 0, 0, 0, 0, 0, 0, 0, 0, 0, 0, 0, 1, 0, 0, 0, 0, 0, 0,\n",
              "        0, 0, 1, 0, 1, 1, 1, 1, 1, 0, 0, 1, 0, 0, 1, 1, 1, 1, 0, 1, 0, 0,\n",
              "        1, 1, 1, 1, 0, 1, 0, 0, 1, 0, 1, 0, 0, 1, 1, 1, 0, 0, 1, 0, 0, 0,\n",
              "        1, 1, 1, 0, 1, 1, 0, 0, 1, 1, 1, 0, 0, 1, 1, 1, 1, 0, 1, 1, 0, 1,\n",
              "        1, 1, 1, 1, 1, 1, 1, 0, 0, 0, 1, 0, 0, 1, 1, 1, 0, 0, 1, 0, 1, 0,\n",
              "        0, 1, 0, 0, 1, 1, 0, 1, 1, 0, 1, 1, 1, 1, 0, 1, 1, 1, 1, 1, 1, 1,\n",
              "        1, 1, 0, 1, 1, 1, 1, 0, 0, 1, 0, 1, 1, 0, 0, 1, 1, 0, 0, 1, 1, 1,\n",
              "        1, 0, 1, 1, 0, 0, 0, 1, 0, 1, 0, 1, 1, 1, 0, 1, 1, 0, 0, 1, 0, 0,\n",
              "        0, 0, 1, 0, 0, 0, 1, 0, 1, 0, 1, 1, 0, 1, 0, 0, 0, 0, 1, 1, 0, 0,\n",
              "        1, 1, 1, 0, 1, 1, 1, 1, 1, 0, 0, 1, 1, 0, 1, 1, 0, 0, 1, 0, 1, 1,\n",
              "        1, 1, 0, 1, 1, 1, 1, 1, 0, 1, 0, 0, 0, 0, 0, 0, 0, 0, 0, 0, 0, 0,\n",
              "        0, 0, 1, 1, 1, 1, 1, 1, 0, 1, 0, 1, 1, 0, 1, 1, 0, 1, 0, 0, 1, 1,\n",
              "        1, 1, 1, 1, 1, 1, 1, 1, 1, 1, 1, 0, 1, 1, 0, 1, 0, 1, 1, 1, 1, 1,\n",
              "        1, 1, 1, 1, 1, 1, 1, 1, 1, 0, 1, 1, 1, 0, 1, 0, 1, 1, 1, 1, 0, 0,\n",
              "        0, 1, 1, 1, 1, 0, 1, 0, 1, 0, 1, 1, 1, 0, 1, 1, 1, 1, 1, 1, 1, 0,\n",
              "        0, 0, 1, 1, 1, 1, 1, 1, 1, 1, 1, 1, 1, 0, 0, 1, 0, 0, 0, 1, 0, 0,\n",
              "        1, 1, 1, 1, 1, 0, 1, 1, 1, 1, 1, 0, 1, 1, 1, 0, 1, 1, 0, 0, 1, 1,\n",
              "        1, 1, 1, 1, 0, 1, 1, 1, 1, 1, 1, 1, 0, 1, 1, 1, 1, 1, 0, 1, 1, 0,\n",
              "        1, 1, 1, 1, 1, 1, 1, 1, 1, 1, 1, 1, 0, 1, 0, 0, 1, 0, 1, 1, 1, 1,\n",
              "        1, 0, 1, 1, 0, 1, 0, 1, 1, 0, 1, 0, 1, 1, 1, 1, 1, 1, 1, 1, 0, 0,\n",
              "        1, 1, 1, 1, 1, 1, 0, 1, 1, 1, 1, 1, 1, 1, 1, 1, 1, 0, 1, 1, 1, 1,\n",
              "        1, 1, 1, 0, 1, 0, 1, 1, 0, 1, 1, 1, 1, 1, 0, 0, 1, 0, 1, 0, 1, 1,\n",
              "        1, 1, 1, 0, 1, 1, 0, 1, 0, 1, 0, 0, 1, 1, 1, 0, 1, 1, 1, 1, 1, 1,\n",
              "        1, 1, 1, 1, 1, 0, 1, 0, 0, 1, 1, 1, 1, 1, 1, 1, 1, 1, 1, 1, 1, 1,\n",
              "        1, 1, 1, 1, 1, 1, 1, 1, 1, 1, 1, 1, 0, 0, 0, 0, 0, 0, 1]),\n",
              " 'frame': None,\n",
              " 'target_names': array(['malignant', 'benign'], dtype='<U9'),\n",
              " 'DESCR': '.. _breast_cancer_dataset:\\n\\nBreast cancer wisconsin (diagnostic) dataset\\n--------------------------------------------\\n\\n**Data Set Characteristics:**\\n\\n    :Number of Instances: 569\\n\\n    :Number of Attributes: 30 numeric, predictive attributes and the class\\n\\n    :Attribute Information:\\n        - radius (mean of distances from center to points on the perimeter)\\n        - texture (standard deviation of gray-scale values)\\n        - perimeter\\n        - area\\n        - smoothness (local variation in radius lengths)\\n        - compactness (perimeter^2 / area - 1.0)\\n        - concavity (severity of concave portions of the contour)\\n        - concave points (number of concave portions of the contour)\\n        - symmetry\\n        - fractal dimension (\"coastline approximation\" - 1)\\n\\n        The mean, standard error, and \"worst\" or largest (mean of the three\\n        worst/largest values) of these features were computed for each image,\\n        resulting in 30 features.  For instance, field 0 is Mean Radius, field\\n        10 is Radius SE, field 20 is Worst Radius.\\n\\n        - class:\\n                - WDBC-Malignant\\n                - WDBC-Benign\\n\\n    :Summary Statistics:\\n\\n    ===================================== ====== ======\\n                                           Min    Max\\n    ===================================== ====== ======\\n    radius (mean):                        6.981  28.11\\n    texture (mean):                       9.71   39.28\\n    perimeter (mean):                     43.79  188.5\\n    area (mean):                          143.5  2501.0\\n    smoothness (mean):                    0.053  0.163\\n    compactness (mean):                   0.019  0.345\\n    concavity (mean):                     0.0    0.427\\n    concave points (mean):                0.0    0.201\\n    symmetry (mean):                      0.106  0.304\\n    fractal dimension (mean):             0.05   0.097\\n    radius (standard error):              0.112  2.873\\n    texture (standard error):             0.36   4.885\\n    perimeter (standard error):           0.757  21.98\\n    area (standard error):                6.802  542.2\\n    smoothness (standard error):          0.002  0.031\\n    compactness (standard error):         0.002  0.135\\n    concavity (standard error):           0.0    0.396\\n    concave points (standard error):      0.0    0.053\\n    symmetry (standard error):            0.008  0.079\\n    fractal dimension (standard error):   0.001  0.03\\n    radius (worst):                       7.93   36.04\\n    texture (worst):                      12.02  49.54\\n    perimeter (worst):                    50.41  251.2\\n    area (worst):                         185.2  4254.0\\n    smoothness (worst):                   0.071  0.223\\n    compactness (worst):                  0.027  1.058\\n    concavity (worst):                    0.0    1.252\\n    concave points (worst):               0.0    0.291\\n    symmetry (worst):                     0.156  0.664\\n    fractal dimension (worst):            0.055  0.208\\n    ===================================== ====== ======\\n\\n    :Missing Attribute Values: None\\n\\n    :Class Distribution: 212 - Malignant, 357 - Benign\\n\\n    :Creator:  Dr. William H. Wolberg, W. Nick Street, Olvi L. Mangasarian\\n\\n    :Donor: Nick Street\\n\\n    :Date: November, 1995\\n\\nThis is a copy of UCI ML Breast Cancer Wisconsin (Diagnostic) datasets.\\nhttps://goo.gl/U2Uwz2\\n\\nFeatures are computed from a digitized image of a fine needle\\naspirate (FNA) of a breast mass.  They describe\\ncharacteristics of the cell nuclei present in the image.\\n\\nSeparating plane described above was obtained using\\nMultisurface Method-Tree (MSM-T) [K. P. Bennett, \"Decision Tree\\nConstruction Via Linear Programming.\" Proceedings of the 4th\\nMidwest Artificial Intelligence and Cognitive Science Society,\\npp. 97-101, 1992], a classification method which uses linear\\nprogramming to construct a decision tree.  Relevant features\\nwere selected using an exhaustive search in the space of 1-4\\nfeatures and 1-3 separating planes.\\n\\nThe actual linear program used to obtain the separating plane\\nin the 3-dimensional space is that described in:\\n[K. P. Bennett and O. L. Mangasarian: \"Robust Linear\\nProgramming Discrimination of Two Linearly Inseparable Sets\",\\nOptimization Methods and Software 1, 1992, 23-34].\\n\\nThis database is also available through the UW CS ftp server:\\n\\nftp ftp.cs.wisc.edu\\ncd math-prog/cpo-dataset/machine-learn/WDBC/\\n\\n.. topic:: References\\n\\n   - W.N. Street, W.H. Wolberg and O.L. Mangasarian. Nuclear feature extraction \\n     for breast tumor diagnosis. IS&T/SPIE 1993 International Symposium on \\n     Electronic Imaging: Science and Technology, volume 1905, pages 861-870,\\n     San Jose, CA, 1993.\\n   - O.L. Mangasarian, W.N. Street and W.H. Wolberg. Breast cancer diagnosis and \\n     prognosis via linear programming. Operations Research, 43(4), pages 570-577, \\n     July-August 1995.\\n   - W.H. Wolberg, W.N. Street, and O.L. Mangasarian. Machine learning techniques\\n     to diagnose breast cancer from fine-needle aspirates. Cancer Letters 77 (1994) \\n     163-171.',\n",
              " 'feature_names': array(['mean radius', 'mean texture', 'mean perimeter', 'mean area',\n",
              "        'mean smoothness', 'mean compactness', 'mean concavity',\n",
              "        'mean concave points', 'mean symmetry', 'mean fractal dimension',\n",
              "        'radius error', 'texture error', 'perimeter error', 'area error',\n",
              "        'smoothness error', 'compactness error', 'concavity error',\n",
              "        'concave points error', 'symmetry error',\n",
              "        'fractal dimension error', 'worst radius', 'worst texture',\n",
              "        'worst perimeter', 'worst area', 'worst smoothness',\n",
              "        'worst compactness', 'worst concavity', 'worst concave points',\n",
              "        'worst symmetry', 'worst fractal dimension'], dtype='<U23'),\n",
              " 'filename': 'breast_cancer.csv',\n",
              " 'data_module': 'sklearn.datasets.data'}"
            ]
          },
          "metadata": {},
          "execution_count": 4
        }
      ]
    },
    {
      "cell_type": "code",
      "source": [
        "type(data)"
      ],
      "metadata": {
        "colab": {
          "base_uri": "https://localhost:8080/",
          "height": 187
        },
        "id": "CeJnDoiEpEtO",
        "outputId": "5f05f557-1bbc-4db4-9c13-2bc1ccbaf7fd"
      },
      "execution_count": null,
      "outputs": [
        {
          "output_type": "execute_result",
          "data": {
            "text/plain": [
              "sklearn.utils._bunch.Bunch"
            ],
            "text/html": [
              "<div style=\"max-width:800px; border: 1px solid var(--colab-border-color);\"><style>\n",
              "      pre.function-repr-contents {\n",
              "        overflow-x: auto;\n",
              "        padding: 8px 12px;\n",
              "        max-height: 500px;\n",
              "      }\n",
              "\n",
              "      pre.function-repr-contents.function-repr-contents-collapsed {\n",
              "        cursor: pointer;\n",
              "        max-height: 100px;\n",
              "      }\n",
              "    </style>\n",
              "    <pre style=\"white-space: initial; background:\n",
              "         var(--colab-secondary-surface-color); padding: 8px 12px;\n",
              "         border-bottom: 1px solid var(--colab-border-color);\"><b>sklearn.utils._bunch.Bunch</b><br/>def __init__(**kwargs)</pre><pre class=\"function-repr-contents function-repr-contents-collapsed\" style=\"\"><a class=\"filepath\" style=\"display:none\" href=\"#\">/usr/local/lib/python3.10/dist-packages/sklearn/utils/_bunch.py</a>Container object exposing keys as attributes.\n",
              "\n",
              "Bunch objects are sometimes used as an output for functions and methods.\n",
              "They extend dictionaries by enabling values to be accessed by key,\n",
              "`bunch[&quot;value_key&quot;]`, or by an attribute, `bunch.value_key`.\n",
              "\n",
              "Examples\n",
              "--------\n",
              "&gt;&gt;&gt; from sklearn.utils import Bunch\n",
              "&gt;&gt;&gt; b = Bunch(a=1, b=2)\n",
              "&gt;&gt;&gt; b[&#x27;b&#x27;]\n",
              "2\n",
              "&gt;&gt;&gt; b.b\n",
              "2\n",
              "&gt;&gt;&gt; b.a = 3\n",
              "&gt;&gt;&gt; b[&#x27;a&#x27;]\n",
              "3\n",
              "&gt;&gt;&gt; b.c = 6\n",
              "&gt;&gt;&gt; b[&#x27;c&#x27;]\n",
              "6</pre>\n",
              "      <script>\n",
              "      if (google.colab.kernel.accessAllowed && google.colab.files && google.colab.files.view) {\n",
              "        for (const element of document.querySelectorAll('.filepath')) {\n",
              "          element.style.display = 'block'\n",
              "          element.onclick = (event) => {\n",
              "            event.preventDefault();\n",
              "            event.stopPropagation();\n",
              "            google.colab.files.view(element.textContent, 1);\n",
              "          };\n",
              "        }\n",
              "      }\n",
              "      for (const element of document.querySelectorAll('.function-repr-contents')) {\n",
              "        element.onclick = (event) => {\n",
              "          event.preventDefault();\n",
              "          event.stopPropagation();\n",
              "          element.classList.toggle('function-repr-contents-collapsed');\n",
              "        };\n",
              "      }\n",
              "      </script>\n",
              "      </div>"
            ]
          },
          "metadata": {},
          "execution_count": 5
        }
      ]
    },
    {
      "cell_type": "code",
      "source": [
        "data.keys()"
      ],
      "metadata": {
        "colab": {
          "base_uri": "https://localhost:8080/"
        },
        "id": "xFNGxzVBp17J",
        "outputId": "2d8ceb5f-6ee5-4029-9b77-e842d70d0996"
      },
      "execution_count": null,
      "outputs": [
        {
          "output_type": "execute_result",
          "data": {
            "text/plain": [
              "dict_keys(['data', 'target', 'frame', 'target_names', 'DESCR', 'feature_names', 'filename', 'data_module'])"
            ]
          },
          "metadata": {},
          "execution_count": 6
        }
      ]
    },
    {
      "cell_type": "code",
      "source": [
        "data.data"
      ],
      "metadata": {
        "colab": {
          "base_uri": "https://localhost:8080/"
        },
        "id": "UsVnd-HLp4io",
        "outputId": "d45e2632-7166-488d-92fc-cf2a0019bd4b"
      },
      "execution_count": null,
      "outputs": [
        {
          "output_type": "execute_result",
          "data": {
            "text/plain": [
              "array([[1.799e+01, 1.038e+01, 1.228e+02, ..., 2.654e-01, 4.601e-01,\n",
              "        1.189e-01],\n",
              "       [2.057e+01, 1.777e+01, 1.329e+02, ..., 1.860e-01, 2.750e-01,\n",
              "        8.902e-02],\n",
              "       [1.969e+01, 2.125e+01, 1.300e+02, ..., 2.430e-01, 3.613e-01,\n",
              "        8.758e-02],\n",
              "       ...,\n",
              "       [1.660e+01, 2.808e+01, 1.083e+02, ..., 1.418e-01, 2.218e-01,\n",
              "        7.820e-02],\n",
              "       [2.060e+01, 2.933e+01, 1.401e+02, ..., 2.650e-01, 4.087e-01,\n",
              "        1.240e-01],\n",
              "       [7.760e+00, 2.454e+01, 4.792e+01, ..., 0.000e+00, 2.871e-01,\n",
              "        7.039e-02]])"
            ]
          },
          "metadata": {},
          "execution_count": 7
        }
      ]
    },
    {
      "cell_type": "code",
      "source": [
        "data.data.shape"
      ],
      "metadata": {
        "colab": {
          "base_uri": "https://localhost:8080/"
        },
        "id": "LMDB3skIp72A",
        "outputId": "a2766688-1857-427f-944d-32d9d8958efe"
      },
      "execution_count": null,
      "outputs": [
        {
          "output_type": "execute_result",
          "data": {
            "text/plain": [
              "(569, 30)"
            ]
          },
          "metadata": {},
          "execution_count": 8
        }
      ]
    },
    {
      "cell_type": "code",
      "source": [
        "data.target"
      ],
      "metadata": {
        "colab": {
          "base_uri": "https://localhost:8080/"
        },
        "id": "wSkiwHaBp_8A",
        "outputId": "706c8d4c-4690-4521-80d2-5ee6663a34a9"
      },
      "execution_count": null,
      "outputs": [
        {
          "output_type": "execute_result",
          "data": {
            "text/plain": [
              "array([0, 0, 0, 0, 0, 0, 0, 0, 0, 0, 0, 0, 0, 0, 0, 0, 0, 0, 0, 1, 1, 1,\n",
              "       0, 0, 0, 0, 0, 0, 0, 0, 0, 0, 0, 0, 0, 0, 0, 1, 0, 0, 0, 0, 0, 0,\n",
              "       0, 0, 1, 0, 1, 1, 1, 1, 1, 0, 0, 1, 0, 0, 1, 1, 1, 1, 0, 1, 0, 0,\n",
              "       1, 1, 1, 1, 0, 1, 0, 0, 1, 0, 1, 0, 0, 1, 1, 1, 0, 0, 1, 0, 0, 0,\n",
              "       1, 1, 1, 0, 1, 1, 0, 0, 1, 1, 1, 0, 0, 1, 1, 1, 1, 0, 1, 1, 0, 1,\n",
              "       1, 1, 1, 1, 1, 1, 1, 0, 0, 0, 1, 0, 0, 1, 1, 1, 0, 0, 1, 0, 1, 0,\n",
              "       0, 1, 0, 0, 1, 1, 0, 1, 1, 0, 1, 1, 1, 1, 0, 1, 1, 1, 1, 1, 1, 1,\n",
              "       1, 1, 0, 1, 1, 1, 1, 0, 0, 1, 0, 1, 1, 0, 0, 1, 1, 0, 0, 1, 1, 1,\n",
              "       1, 0, 1, 1, 0, 0, 0, 1, 0, 1, 0, 1, 1, 1, 0, 1, 1, 0, 0, 1, 0, 0,\n",
              "       0, 0, 1, 0, 0, 0, 1, 0, 1, 0, 1, 1, 0, 1, 0, 0, 0, 0, 1, 1, 0, 0,\n",
              "       1, 1, 1, 0, 1, 1, 1, 1, 1, 0, 0, 1, 1, 0, 1, 1, 0, 0, 1, 0, 1, 1,\n",
              "       1, 1, 0, 1, 1, 1, 1, 1, 0, 1, 0, 0, 0, 0, 0, 0, 0, 0, 0, 0, 0, 0,\n",
              "       0, 0, 1, 1, 1, 1, 1, 1, 0, 1, 0, 1, 1, 0, 1, 1, 0, 1, 0, 0, 1, 1,\n",
              "       1, 1, 1, 1, 1, 1, 1, 1, 1, 1, 1, 0, 1, 1, 0, 1, 0, 1, 1, 1, 1, 1,\n",
              "       1, 1, 1, 1, 1, 1, 1, 1, 1, 0, 1, 1, 1, 0, 1, 0, 1, 1, 1, 1, 0, 0,\n",
              "       0, 1, 1, 1, 1, 0, 1, 0, 1, 0, 1, 1, 1, 0, 1, 1, 1, 1, 1, 1, 1, 0,\n",
              "       0, 0, 1, 1, 1, 1, 1, 1, 1, 1, 1, 1, 1, 0, 0, 1, 0, 0, 0, 1, 0, 0,\n",
              "       1, 1, 1, 1, 1, 0, 1, 1, 1, 1, 1, 0, 1, 1, 1, 0, 1, 1, 0, 0, 1, 1,\n",
              "       1, 1, 1, 1, 0, 1, 1, 1, 1, 1, 1, 1, 0, 1, 1, 1, 1, 1, 0, 1, 1, 0,\n",
              "       1, 1, 1, 1, 1, 1, 1, 1, 1, 1, 1, 1, 0, 1, 0, 0, 1, 0, 1, 1, 1, 1,\n",
              "       1, 0, 1, 1, 0, 1, 0, 1, 1, 0, 1, 0, 1, 1, 1, 1, 1, 1, 1, 1, 0, 0,\n",
              "       1, 1, 1, 1, 1, 1, 0, 1, 1, 1, 1, 1, 1, 1, 1, 1, 1, 0, 1, 1, 1, 1,\n",
              "       1, 1, 1, 0, 1, 0, 1, 1, 0, 1, 1, 1, 1, 1, 0, 0, 1, 0, 1, 0, 1, 1,\n",
              "       1, 1, 1, 0, 1, 1, 0, 1, 0, 1, 0, 0, 1, 1, 1, 0, 1, 1, 1, 1, 1, 1,\n",
              "       1, 1, 1, 1, 1, 0, 1, 0, 0, 1, 1, 1, 1, 1, 1, 1, 1, 1, 1, 1, 1, 1,\n",
              "       1, 1, 1, 1, 1, 1, 1, 1, 1, 1, 1, 1, 0, 0, 0, 0, 0, 0, 1])"
            ]
          },
          "metadata": {},
          "execution_count": 9
        }
      ]
    },
    {
      "cell_type": "code",
      "source": [
        "data.target_names"
      ],
      "metadata": {
        "colab": {
          "base_uri": "https://localhost:8080/"
        },
        "id": "RWBspIa1qBvP",
        "outputId": "5223588f-82c4-4817-ab6e-33d76c579901"
      },
      "execution_count": null,
      "outputs": [
        {
          "output_type": "execute_result",
          "data": {
            "text/plain": [
              "array(['malignant', 'benign'], dtype='<U9')"
            ]
          },
          "metadata": {},
          "execution_count": 10
        }
      ]
    },
    {
      "cell_type": "code",
      "source": [
        "data.target.shape"
      ],
      "metadata": {
        "colab": {
          "base_uri": "https://localhost:8080/"
        },
        "id": "d0bQYy9iqNFw",
        "outputId": "c68c01b8-f0cd-4711-e433-a9d5cb9d968e"
      },
      "execution_count": null,
      "outputs": [
        {
          "output_type": "execute_result",
          "data": {
            "text/plain": [
              "(569,)"
            ]
          },
          "metadata": {},
          "execution_count": 11
        }
      ]
    },
    {
      "cell_type": "code",
      "source": [
        "data.data"
      ],
      "metadata": {
        "colab": {
          "base_uri": "https://localhost:8080/"
        },
        "id": "CFJT0vwSqSpA",
        "outputId": "0adad9ed-5def-4577-f178-932fa75bdda7"
      },
      "execution_count": null,
      "outputs": [
        {
          "output_type": "execute_result",
          "data": {
            "text/plain": [
              "array([[1.799e+01, 1.038e+01, 1.228e+02, ..., 2.654e-01, 4.601e-01,\n",
              "        1.189e-01],\n",
              "       [2.057e+01, 1.777e+01, 1.329e+02, ..., 1.860e-01, 2.750e-01,\n",
              "        8.902e-02],\n",
              "       [1.969e+01, 2.125e+01, 1.300e+02, ..., 2.430e-01, 3.613e-01,\n",
              "        8.758e-02],\n",
              "       ...,\n",
              "       [1.660e+01, 2.808e+01, 1.083e+02, ..., 1.418e-01, 2.218e-01,\n",
              "        7.820e-02],\n",
              "       [2.060e+01, 2.933e+01, 1.401e+02, ..., 2.650e-01, 4.087e-01,\n",
              "        1.240e-01],\n",
              "       [7.760e+00, 2.454e+01, 4.792e+01, ..., 0.000e+00, 2.871e-01,\n",
              "        7.039e-02]])"
            ]
          },
          "metadata": {},
          "execution_count": 12
        }
      ]
    },
    {
      "cell_type": "code",
      "source": [
        "data.feature_names"
      ],
      "metadata": {
        "colab": {
          "base_uri": "https://localhost:8080/"
        },
        "id": "0pMLzCqMqWRP",
        "outputId": "83e8bd75-b0fa-4e5d-f9d8-122c990c3f58"
      },
      "execution_count": null,
      "outputs": [
        {
          "output_type": "execute_result",
          "data": {
            "text/plain": [
              "array(['mean radius', 'mean texture', 'mean perimeter', 'mean area',\n",
              "       'mean smoothness', 'mean compactness', 'mean concavity',\n",
              "       'mean concave points', 'mean symmetry', 'mean fractal dimension',\n",
              "       'radius error', 'texture error', 'perimeter error', 'area error',\n",
              "       'smoothness error', 'compactness error', 'concavity error',\n",
              "       'concave points error', 'symmetry error',\n",
              "       'fractal dimension error', 'worst radius', 'worst texture',\n",
              "       'worst perimeter', 'worst area', 'worst smoothness',\n",
              "       'worst compactness', 'worst concavity', 'worst concave points',\n",
              "       'worst symmetry', 'worst fractal dimension'], dtype='<U23')"
            ]
          },
          "metadata": {},
          "execution_count": 13
        }
      ]
    },
    {
      "cell_type": "code",
      "source": [
        "\n",
        "from sklearn.model_selection import train_test_split"
      ],
      "metadata": {
        "id": "9LAuZ_UIqckv"
      },
      "execution_count": null,
      "outputs": []
    },
    {
      "cell_type": "code",
      "source": [
        "X_train, X_test, y_train, y_test = train_test_split(\n",
        "    data.data, data.target, test_size=0.33)"
      ],
      "metadata": {
        "id": "4h-GS7ivqvlC"
      },
      "execution_count": null,
      "outputs": []
    },
    {
      "cell_type": "code",
      "source": [
        "N, D = X_train.shape"
      ],
      "metadata": {
        "id": "nq5zGHPkq-z8"
      },
      "execution_count": null,
      "outputs": []
    },
    {
      "cell_type": "code",
      "source": [
        "N, D"
      ],
      "metadata": {
        "colab": {
          "base_uri": "https://localhost:8080/"
        },
        "id": "B8wpGFwbroLN",
        "outputId": "f4498ec9-00cf-45b2-e67f-e5666ce191b9"
      },
      "execution_count": null,
      "outputs": [
        {
          "output_type": "execute_result",
          "data": {
            "text/plain": [
              "(381, 30)"
            ]
          },
          "metadata": {},
          "execution_count": 17
        }
      ]
    },
    {
      "cell_type": "code",
      "source": [
        "from sklearn.preprocessing import StandardScaler\n",
        "\n",
        "scaler = StandardScaler()\n",
        "X_train = scaler.fit_transform(X_train)\n",
        "X_test = scaler.transform(X_test)"
      ],
      "metadata": {
        "id": "pjjkeni6rqkN"
      },
      "execution_count": null,
      "outputs": []
    },
    {
      "cell_type": "code",
      "source": [
        "model = tf.keras.Sequential([\n",
        "    tf.keras.layers.Input(shape=(D,)),\n",
        "    tf.keras.layers.Dense(1, activation='sigmoid')\n",
        "])"
      ],
      "metadata": {
        "id": "0wajWsMGsynL"
      },
      "execution_count": null,
      "outputs": []
    },
    {
      "cell_type": "code",
      "source": [
        "#Alternative\n",
        "#model = tf.keras.models.Sequential()\n",
        "#model.add(tf.keras.layers.Dense(1, input_shape=(D,), activation='sigmoid'))"
      ],
      "metadata": {
        "id": "iQOx07cftUSt"
      },
      "execution_count": null,
      "outputs": []
    },
    {
      "cell_type": "code",
      "source": [
        "model.compile(optimizer='adam',\n",
        "              loss='binary_crossentropy',\n",
        "              metrics=['accuracy'])"
      ],
      "metadata": {
        "id": "XKu0XIhwvGX4"
      },
      "execution_count": null,
      "outputs": []
    },
    {
      "cell_type": "code",
      "source": [
        "r = model.fit(X_train, y_train, validation_data=(X_test, y_test), epochs=100)"
      ],
      "metadata": {
        "colab": {
          "base_uri": "https://localhost:8080/"
        },
        "id": "tzVEz5l-wPz2",
        "outputId": "ca484047-2887-4f4f-e447-2a44e40d6307"
      },
      "execution_count": null,
      "outputs": [
        {
          "output_type": "stream",
          "name": "stdout",
          "text": [
            "Epoch 1/100\n",
            "12/12 [==============================] - 4s 82ms/step - loss: 0.7416 - accuracy: 0.6457 - val_loss: 0.7502 - val_accuracy: 0.6383\n",
            "Epoch 2/100\n",
            "12/12 [==============================] - 0s 27ms/step - loss: 0.6884 - accuracy: 0.6798 - val_loss: 0.6975 - val_accuracy: 0.6649\n",
            "Epoch 3/100\n",
            "12/12 [==============================] - 0s 19ms/step - loss: 0.6388 - accuracy: 0.7034 - val_loss: 0.6500 - val_accuracy: 0.6968\n",
            "Epoch 4/100\n",
            "12/12 [==============================] - 0s 18ms/step - loss: 0.5957 - accuracy: 0.7297 - val_loss: 0.6072 - val_accuracy: 0.7234\n",
            "Epoch 5/100\n",
            "12/12 [==============================] - 0s 15ms/step - loss: 0.5554 - accuracy: 0.7480 - val_loss: 0.5700 - val_accuracy: 0.7394\n",
            "Epoch 6/100\n",
            "12/12 [==============================] - 0s 25ms/step - loss: 0.5221 - accuracy: 0.7612 - val_loss: 0.5349 - val_accuracy: 0.7553\n",
            "Epoch 7/100\n",
            "12/12 [==============================] - 0s 18ms/step - loss: 0.4917 - accuracy: 0.7848 - val_loss: 0.5029 - val_accuracy: 0.7872\n",
            "Epoch 8/100\n",
            "12/12 [==============================] - 0s 26ms/step - loss: 0.4635 - accuracy: 0.8084 - val_loss: 0.4751 - val_accuracy: 0.7979\n",
            "Epoch 9/100\n",
            "12/12 [==============================] - 0s 17ms/step - loss: 0.4391 - accuracy: 0.8189 - val_loss: 0.4493 - val_accuracy: 0.7979\n",
            "Epoch 10/100\n",
            "12/12 [==============================] - 0s 38ms/step - loss: 0.4171 - accuracy: 0.8373 - val_loss: 0.4253 - val_accuracy: 0.8191\n",
            "Epoch 11/100\n",
            "12/12 [==============================] - 1s 70ms/step - loss: 0.3970 - accuracy: 0.8373 - val_loss: 0.4035 - val_accuracy: 0.8298\n",
            "Epoch 12/100\n",
            "12/12 [==============================] - 0s 31ms/step - loss: 0.3783 - accuracy: 0.8583 - val_loss: 0.3838 - val_accuracy: 0.8351\n",
            "Epoch 13/100\n",
            "12/12 [==============================] - 0s 29ms/step - loss: 0.3616 - accuracy: 0.8661 - val_loss: 0.3658 - val_accuracy: 0.8404\n",
            "Epoch 14/100\n",
            "12/12 [==============================] - 0s 38ms/step - loss: 0.3466 - accuracy: 0.8766 - val_loss: 0.3489 - val_accuracy: 0.8404\n",
            "Epoch 15/100\n",
            "12/12 [==============================] - 0s 34ms/step - loss: 0.3327 - accuracy: 0.8924 - val_loss: 0.3330 - val_accuracy: 0.8457\n",
            "Epoch 16/100\n",
            "12/12 [==============================] - 0s 26ms/step - loss: 0.3194 - accuracy: 0.9055 - val_loss: 0.3190 - val_accuracy: 0.8564\n",
            "Epoch 17/100\n",
            "12/12 [==============================] - 0s 37ms/step - loss: 0.3075 - accuracy: 0.9055 - val_loss: 0.3058 - val_accuracy: 0.8564\n",
            "Epoch 18/100\n",
            "12/12 [==============================] - 0s 24ms/step - loss: 0.2968 - accuracy: 0.9055 - val_loss: 0.2931 - val_accuracy: 0.8777\n",
            "Epoch 19/100\n",
            "12/12 [==============================] - 0s 38ms/step - loss: 0.2865 - accuracy: 0.9108 - val_loss: 0.2816 - val_accuracy: 0.8777\n",
            "Epoch 20/100\n",
            "12/12 [==============================] - 0s 14ms/step - loss: 0.2768 - accuracy: 0.9186 - val_loss: 0.2709 - val_accuracy: 0.8777\n",
            "Epoch 21/100\n",
            "12/12 [==============================] - 0s 15ms/step - loss: 0.2679 - accuracy: 0.9186 - val_loss: 0.2610 - val_accuracy: 0.8830\n",
            "Epoch 22/100\n",
            "12/12 [==============================] - 0s 21ms/step - loss: 0.2595 - accuracy: 0.9265 - val_loss: 0.2520 - val_accuracy: 0.8936\n",
            "Epoch 23/100\n",
            "12/12 [==============================] - 0s 22ms/step - loss: 0.2520 - accuracy: 0.9291 - val_loss: 0.2431 - val_accuracy: 0.8989\n",
            "Epoch 24/100\n",
            "12/12 [==============================] - 0s 15ms/step - loss: 0.2445 - accuracy: 0.9318 - val_loss: 0.2349 - val_accuracy: 0.9043\n",
            "Epoch 25/100\n",
            "12/12 [==============================] - 0s 26ms/step - loss: 0.2376 - accuracy: 0.9318 - val_loss: 0.2273 - val_accuracy: 0.9043\n",
            "Epoch 26/100\n",
            "12/12 [==============================] - 0s 26ms/step - loss: 0.2311 - accuracy: 0.9344 - val_loss: 0.2202 - val_accuracy: 0.9096\n",
            "Epoch 27/100\n",
            "12/12 [==============================] - 0s 11ms/step - loss: 0.2250 - accuracy: 0.9344 - val_loss: 0.2135 - val_accuracy: 0.9096\n",
            "Epoch 28/100\n",
            "12/12 [==============================] - 0s 40ms/step - loss: 0.2193 - accuracy: 0.9396 - val_loss: 0.2072 - val_accuracy: 0.9096\n",
            "Epoch 29/100\n",
            "12/12 [==============================] - 0s 27ms/step - loss: 0.2139 - accuracy: 0.9396 - val_loss: 0.2013 - val_accuracy: 0.9149\n",
            "Epoch 30/100\n",
            "12/12 [==============================] - 0s 24ms/step - loss: 0.2088 - accuracy: 0.9423 - val_loss: 0.1956 - val_accuracy: 0.9149\n",
            "Epoch 31/100\n",
            "12/12 [==============================] - 0s 15ms/step - loss: 0.2040 - accuracy: 0.9449 - val_loss: 0.1902 - val_accuracy: 0.9149\n",
            "Epoch 32/100\n",
            "12/12 [==============================] - 0s 28ms/step - loss: 0.1996 - accuracy: 0.9449 - val_loss: 0.1850 - val_accuracy: 0.9202\n",
            "Epoch 33/100\n",
            "12/12 [==============================] - 0s 28ms/step - loss: 0.1949 - accuracy: 0.9449 - val_loss: 0.1803 - val_accuracy: 0.9202\n",
            "Epoch 34/100\n",
            "12/12 [==============================] - 0s 34ms/step - loss: 0.1909 - accuracy: 0.9475 - val_loss: 0.1758 - val_accuracy: 0.9255\n",
            "Epoch 35/100\n",
            "12/12 [==============================] - 0s 25ms/step - loss: 0.1869 - accuracy: 0.9554 - val_loss: 0.1717 - val_accuracy: 0.9255\n",
            "Epoch 36/100\n",
            "12/12 [==============================] - 0s 21ms/step - loss: 0.1833 - accuracy: 0.9580 - val_loss: 0.1676 - val_accuracy: 0.9255\n",
            "Epoch 37/100\n",
            "12/12 [==============================] - 0s 20ms/step - loss: 0.1796 - accuracy: 0.9606 - val_loss: 0.1639 - val_accuracy: 0.9255\n",
            "Epoch 38/100\n",
            "12/12 [==============================] - 0s 29ms/step - loss: 0.1762 - accuracy: 0.9633 - val_loss: 0.1604 - val_accuracy: 0.9309\n",
            "Epoch 39/100\n",
            "12/12 [==============================] - 0s 17ms/step - loss: 0.1731 - accuracy: 0.9633 - val_loss: 0.1570 - val_accuracy: 0.9309\n",
            "Epoch 40/100\n",
            "12/12 [==============================] - 0s 23ms/step - loss: 0.1700 - accuracy: 0.9685 - val_loss: 0.1538 - val_accuracy: 0.9309\n",
            "Epoch 41/100\n",
            "12/12 [==============================] - 0s 9ms/step - loss: 0.1670 - accuracy: 0.9685 - val_loss: 0.1508 - val_accuracy: 0.9309\n",
            "Epoch 42/100\n",
            "12/12 [==============================] - 0s 32ms/step - loss: 0.1642 - accuracy: 0.9685 - val_loss: 0.1479 - val_accuracy: 0.9309\n",
            "Epoch 43/100\n",
            "12/12 [==============================] - 0s 17ms/step - loss: 0.1615 - accuracy: 0.9685 - val_loss: 0.1453 - val_accuracy: 0.9415\n",
            "Epoch 44/100\n",
            "12/12 [==============================] - 0s 20ms/step - loss: 0.1590 - accuracy: 0.9685 - val_loss: 0.1427 - val_accuracy: 0.9415\n",
            "Epoch 45/100\n",
            "12/12 [==============================] - 0s 20ms/step - loss: 0.1568 - accuracy: 0.9685 - val_loss: 0.1402 - val_accuracy: 0.9468\n",
            "Epoch 46/100\n",
            "12/12 [==============================] - 0s 9ms/step - loss: 0.1542 - accuracy: 0.9711 - val_loss: 0.1379 - val_accuracy: 0.9468\n",
            "Epoch 47/100\n",
            "12/12 [==============================] - 0s 12ms/step - loss: 0.1520 - accuracy: 0.9738 - val_loss: 0.1356 - val_accuracy: 0.9521\n",
            "Epoch 48/100\n",
            "12/12 [==============================] - 0s 20ms/step - loss: 0.1500 - accuracy: 0.9738 - val_loss: 0.1335 - val_accuracy: 0.9574\n",
            "Epoch 49/100\n",
            "12/12 [==============================] - 0s 15ms/step - loss: 0.1478 - accuracy: 0.9738 - val_loss: 0.1314 - val_accuracy: 0.9574\n",
            "Epoch 50/100\n",
            "12/12 [==============================] - 0s 19ms/step - loss: 0.1459 - accuracy: 0.9738 - val_loss: 0.1295 - val_accuracy: 0.9574\n",
            "Epoch 51/100\n",
            "12/12 [==============================] - 0s 19ms/step - loss: 0.1439 - accuracy: 0.9738 - val_loss: 0.1276 - val_accuracy: 0.9574\n",
            "Epoch 52/100\n",
            "12/12 [==============================] - 0s 14ms/step - loss: 0.1421 - accuracy: 0.9738 - val_loss: 0.1259 - val_accuracy: 0.9681\n",
            "Epoch 53/100\n",
            "12/12 [==============================] - 0s 11ms/step - loss: 0.1403 - accuracy: 0.9738 - val_loss: 0.1242 - val_accuracy: 0.9787\n",
            "Epoch 54/100\n",
            "12/12 [==============================] - 0s 24ms/step - loss: 0.1387 - accuracy: 0.9738 - val_loss: 0.1226 - val_accuracy: 0.9787\n",
            "Epoch 55/100\n",
            "12/12 [==============================] - 0s 16ms/step - loss: 0.1370 - accuracy: 0.9738 - val_loss: 0.1211 - val_accuracy: 0.9787\n",
            "Epoch 56/100\n",
            "12/12 [==============================] - 0s 10ms/step - loss: 0.1355 - accuracy: 0.9738 - val_loss: 0.1196 - val_accuracy: 0.9787\n",
            "Epoch 57/100\n",
            "12/12 [==============================] - 0s 19ms/step - loss: 0.1341 - accuracy: 0.9738 - val_loss: 0.1182 - val_accuracy: 0.9787\n",
            "Epoch 58/100\n",
            "12/12 [==============================] - 0s 10ms/step - loss: 0.1325 - accuracy: 0.9764 - val_loss: 0.1168 - val_accuracy: 0.9787\n",
            "Epoch 59/100\n",
            "12/12 [==============================] - 0s 20ms/step - loss: 0.1312 - accuracy: 0.9764 - val_loss: 0.1155 - val_accuracy: 0.9787\n",
            "Epoch 60/100\n",
            "12/12 [==============================] - 0s 9ms/step - loss: 0.1298 - accuracy: 0.9764 - val_loss: 0.1142 - val_accuracy: 0.9787\n",
            "Epoch 61/100\n",
            "12/12 [==============================] - 0s 14ms/step - loss: 0.1284 - accuracy: 0.9764 - val_loss: 0.1130 - val_accuracy: 0.9787\n",
            "Epoch 62/100\n",
            "12/12 [==============================] - 0s 19ms/step - loss: 0.1272 - accuracy: 0.9764 - val_loss: 0.1119 - val_accuracy: 0.9787\n",
            "Epoch 63/100\n",
            "12/12 [==============================] - 0s 26ms/step - loss: 0.1260 - accuracy: 0.9790 - val_loss: 0.1107 - val_accuracy: 0.9787\n",
            "Epoch 64/100\n",
            "12/12 [==============================] - 0s 20ms/step - loss: 0.1250 - accuracy: 0.9790 - val_loss: 0.1096 - val_accuracy: 0.9787\n",
            "Epoch 65/100\n",
            "12/12 [==============================] - 0s 10ms/step - loss: 0.1237 - accuracy: 0.9790 - val_loss: 0.1086 - val_accuracy: 0.9787\n",
            "Epoch 66/100\n",
            "12/12 [==============================] - 0s 10ms/step - loss: 0.1226 - accuracy: 0.9764 - val_loss: 0.1076 - val_accuracy: 0.9787\n",
            "Epoch 67/100\n",
            "12/12 [==============================] - 0s 15ms/step - loss: 0.1216 - accuracy: 0.9764 - val_loss: 0.1066 - val_accuracy: 0.9787\n",
            "Epoch 68/100\n",
            "12/12 [==============================] - 0s 10ms/step - loss: 0.1205 - accuracy: 0.9764 - val_loss: 0.1057 - val_accuracy: 0.9787\n",
            "Epoch 69/100\n",
            "12/12 [==============================] - 0s 16ms/step - loss: 0.1195 - accuracy: 0.9764 - val_loss: 0.1048 - val_accuracy: 0.9787\n",
            "Epoch 70/100\n",
            "12/12 [==============================] - 0s 14ms/step - loss: 0.1185 - accuracy: 0.9764 - val_loss: 0.1039 - val_accuracy: 0.9787\n",
            "Epoch 71/100\n",
            "12/12 [==============================] - 0s 14ms/step - loss: 0.1176 - accuracy: 0.9764 - val_loss: 0.1030 - val_accuracy: 0.9787\n",
            "Epoch 72/100\n",
            "12/12 [==============================] - 0s 11ms/step - loss: 0.1167 - accuracy: 0.9764 - val_loss: 0.1022 - val_accuracy: 0.9787\n",
            "Epoch 73/100\n",
            "12/12 [==============================] - 0s 16ms/step - loss: 0.1158 - accuracy: 0.9790 - val_loss: 0.1013 - val_accuracy: 0.9787\n",
            "Epoch 74/100\n",
            "12/12 [==============================] - 0s 12ms/step - loss: 0.1149 - accuracy: 0.9790 - val_loss: 0.1006 - val_accuracy: 0.9787\n",
            "Epoch 75/100\n",
            "12/12 [==============================] - 0s 9ms/step - loss: 0.1141 - accuracy: 0.9790 - val_loss: 0.0998 - val_accuracy: 0.9787\n",
            "Epoch 76/100\n",
            "12/12 [==============================] - 0s 13ms/step - loss: 0.1133 - accuracy: 0.9790 - val_loss: 0.0991 - val_accuracy: 0.9787\n",
            "Epoch 77/100\n",
            "12/12 [==============================] - 0s 11ms/step - loss: 0.1125 - accuracy: 0.9790 - val_loss: 0.0984 - val_accuracy: 0.9787\n",
            "Epoch 78/100\n",
            "12/12 [==============================] - 0s 14ms/step - loss: 0.1117 - accuracy: 0.9790 - val_loss: 0.0977 - val_accuracy: 0.9787\n",
            "Epoch 79/100\n",
            "12/12 [==============================] - 0s 17ms/step - loss: 0.1110 - accuracy: 0.9790 - val_loss: 0.0970 - val_accuracy: 0.9787\n",
            "Epoch 80/100\n",
            "12/12 [==============================] - 0s 20ms/step - loss: 0.1102 - accuracy: 0.9790 - val_loss: 0.0963 - val_accuracy: 0.9787\n",
            "Epoch 81/100\n",
            "12/12 [==============================] - 0s 16ms/step - loss: 0.1095 - accuracy: 0.9790 - val_loss: 0.0957 - val_accuracy: 0.9787\n",
            "Epoch 82/100\n",
            "12/12 [==============================] - 0s 20ms/step - loss: 0.1088 - accuracy: 0.9790 - val_loss: 0.0950 - val_accuracy: 0.9787\n",
            "Epoch 83/100\n",
            "12/12 [==============================] - 0s 6ms/step - loss: 0.1081 - accuracy: 0.9790 - val_loss: 0.0944 - val_accuracy: 0.9787\n",
            "Epoch 84/100\n",
            "12/12 [==============================] - 0s 6ms/step - loss: 0.1075 - accuracy: 0.9790 - val_loss: 0.0938 - val_accuracy: 0.9787\n",
            "Epoch 85/100\n",
            "12/12 [==============================] - 0s 5ms/step - loss: 0.1068 - accuracy: 0.9790 - val_loss: 0.0932 - val_accuracy: 0.9787\n",
            "Epoch 86/100\n",
            "12/12 [==============================] - 0s 6ms/step - loss: 0.1062 - accuracy: 0.9790 - val_loss: 0.0927 - val_accuracy: 0.9787\n",
            "Epoch 87/100\n",
            "12/12 [==============================] - 0s 5ms/step - loss: 0.1056 - accuracy: 0.9790 - val_loss: 0.0921 - val_accuracy: 0.9787\n",
            "Epoch 88/100\n",
            "12/12 [==============================] - 0s 6ms/step - loss: 0.1050 - accuracy: 0.9790 - val_loss: 0.0916 - val_accuracy: 0.9787\n",
            "Epoch 89/100\n",
            "12/12 [==============================] - 0s 6ms/step - loss: 0.1044 - accuracy: 0.9790 - val_loss: 0.0910 - val_accuracy: 0.9787\n",
            "Epoch 90/100\n",
            "12/12 [==============================] - 0s 7ms/step - loss: 0.1038 - accuracy: 0.9790 - val_loss: 0.0905 - val_accuracy: 0.9787\n",
            "Epoch 91/100\n",
            "12/12 [==============================] - 0s 6ms/step - loss: 0.1033 - accuracy: 0.9790 - val_loss: 0.0900 - val_accuracy: 0.9787\n",
            "Epoch 92/100\n",
            "12/12 [==============================] - 0s 6ms/step - loss: 0.1027 - accuracy: 0.9790 - val_loss: 0.0896 - val_accuracy: 0.9787\n",
            "Epoch 93/100\n",
            "12/12 [==============================] - 0s 6ms/step - loss: 0.1022 - accuracy: 0.9790 - val_loss: 0.0891 - val_accuracy: 0.9787\n",
            "Epoch 94/100\n",
            "12/12 [==============================] - 0s 8ms/step - loss: 0.1016 - accuracy: 0.9790 - val_loss: 0.0886 - val_accuracy: 0.9787\n",
            "Epoch 95/100\n",
            "12/12 [==============================] - 0s 6ms/step - loss: 0.1011 - accuracy: 0.9790 - val_loss: 0.0881 - val_accuracy: 0.9787\n",
            "Epoch 96/100\n",
            "12/12 [==============================] - 0s 7ms/step - loss: 0.1007 - accuracy: 0.9790 - val_loss: 0.0876 - val_accuracy: 0.9787\n",
            "Epoch 97/100\n",
            "12/12 [==============================] - 0s 7ms/step - loss: 0.1002 - accuracy: 0.9790 - val_loss: 0.0871 - val_accuracy: 0.9787\n",
            "Epoch 98/100\n",
            "12/12 [==============================] - 0s 6ms/step - loss: 0.0998 - accuracy: 0.9790 - val_loss: 0.0868 - val_accuracy: 0.9787\n",
            "Epoch 99/100\n",
            "12/12 [==============================] - 0s 9ms/step - loss: 0.0992 - accuracy: 0.9790 - val_loss: 0.0863 - val_accuracy: 0.9787\n",
            "Epoch 100/100\n",
            "12/12 [==============================] - 0s 6ms/step - loss: 0.0987 - accuracy: 0.9790 - val_loss: 0.0859 - val_accuracy: 0.9787\n"
          ]
        }
      ]
    },
    {
      "cell_type": "code",
      "source": [
        "print(\"Train score:\", model.evaluate(X_train, y_train))\n",
        "print(\"Test score:\", model.evaluate(X_test, y_test))"
      ],
      "metadata": {
        "colab": {
          "base_uri": "https://localhost:8080/"
        },
        "id": "z_w1SIitwqnJ",
        "outputId": "0808a802-6a59-43c6-f3ae-bfc641ce5b17"
      },
      "execution_count": null,
      "outputs": [
        {
          "output_type": "stream",
          "name": "stdout",
          "text": [
            "12/12 [==============================] - 0s 2ms/step - loss: 0.0984 - accuracy: 0.9790\n",
            "Train score: [0.09840986877679825, 0.9790025949478149]\n",
            "6/6 [==============================] - 0s 3ms/step - loss: 0.0859 - accuracy: 0.9787\n",
            "Test score: [0.08588272333145142, 0.978723406791687]\n"
          ]
        }
      ]
    },
    {
      "cell_type": "code",
      "source": [
        "import matplotlib.pyplot as plt\n",
        "plt.plot(r.history['loss'], label='loss')\n",
        "plt.plot(r.history['val_loss'], label='val_loss')\n",
        "plt.legend();"
      ],
      "metadata": {
        "colab": {
          "base_uri": "https://localhost:8080/",
          "height": 430
        },
        "id": "qmwW95x4z2ef",
        "outputId": "1ef281ae-de08-45ca-de90-9f9c67a061ec"
      },
      "execution_count": null,
      "outputs": [
        {
          "output_type": "display_data",
          "data": {
            "text/plain": [
              "<Figure size 640x480 with 1 Axes>"
            ],
            "image/png": "[encoded data removed]"
          },
          "metadata": {}
        }
      ]
    },
    {
      "cell_type": "code",
      "source": [
        "plt.plot(r.history['accuracy'], label='acc')\n",
        "plt.plot(r.history['val_accuracy'], label='val_acc')\n",
        "plt.legend();"
      ],
      "metadata": {
        "colab": {
          "base_uri": "https://localhost:8080/",
          "height": 430
        },
        "id": "rVg7jKuS3pk1",
        "outputId": "e7d5022a-1023-4835-c981-2d1091cc5207"
      },
      "execution_count": null,
      "outputs": [
        {
          "output_type": "display_data",
          "data": {
            "text/plain": [
              "<Figure size 640x480 with 1 Axes>"
            ],
            "image/png": "[encoded data removed]"
          },
          "metadata": {}
        }
      ]
    },
    {
      "cell_type": "code",
      "source": [],
      "metadata": {
        "id": "ea-h50984JeT"
      },
      "execution_count": null,
      "outputs": []
    },
    {
      "cell_type": "markdown",
      "source": [],
      "metadata": {
        "id": "ZteLwiWDs5nN"
      }
    },
    {
      "cell_type": "markdown",
      "source": [
        "# Part 2: Making Predictions\n",
        "\n"
      ],
      "metadata": {
        "id": "__MDAqpZs5of"
      }
    },
    {
      "cell_type": "code",
      "source": [
        "#Make predictions\n",
        "P = model.predict(X_test)\n",
        "print(P)"
      ],
      "metadata": {
        "colab": {
          "base_uri": "https://localhost:8080/"
        },
        "id": "W1naTuiXtAFS",
        "outputId": "75abd7bc-1748-4d01-c5c1-abc452794433"
      },
      "execution_count": null,
      "outputs": [
        {
          "output_type": "stream",
          "name": "stdout",
          "text": [
            "6/6 [==============================] - 0s 3ms/step\n",
            "[[9.5248199e-01]\n",
            " [9.8833668e-01]\n",
            " [9.2313194e-01]\n",
            " [8.7968457e-01]\n",
            " [7.2499675e-01]\n",
            " [9.9745357e-01]\n",
            " [9.6639156e-01]\n",
            " [7.7453721e-01]\n",
            " [1.3287508e-04]\n",
            " [8.9146149e-01]\n",
            " [9.8673731e-01]\n",
            " [9.9917442e-01]\n",
            " [7.7991962e-01]\n",
            " [5.6497734e-02]\n",
            " [1.7505845e-06]\n",
            " [9.3186027e-01]\n",
            " [9.6581537e-01]\n",
            " [9.9990487e-01]\n",
            " [9.9275452e-01]\n",
            " [5.8323783e-01]\n",
            " [9.8954350e-01]\n",
            " [9.9538040e-01]\n",
            " [9.6357161e-01]\n",
            " [1.2183170e-03]\n",
            " [5.0302717e-04]\n",
            " [9.8090655e-01]\n",
            " [3.0615767e-03]\n",
            " [9.6388900e-01]\n",
            " [3.4435424e-01]\n",
            " [1.8064695e-03]\n",
            " [8.4058934e-01]\n",
            " [9.8271555e-01]\n",
            " [9.9404180e-01]\n",
            " [9.8893988e-01]\n",
            " [2.5022491e-03]\n",
            " [9.8218435e-01]\n",
            " [9.6222037e-01]\n",
            " [9.9444497e-01]\n",
            " [1.9567078e-03]\n",
            " [9.9210876e-01]\n",
            " [9.9087822e-01]\n",
            " [2.6675405e-03]\n",
            " [9.5925659e-01]\n",
            " [9.8456806e-01]\n",
            " [5.7184435e-02]\n",
            " [5.5153290e-04]\n",
            " [7.1375933e-03]\n",
            " [7.6678372e-03]\n",
            " [9.9423969e-01]\n",
            " [7.8856163e-02]\n",
            " [8.5342610e-01]\n",
            " [9.9978811e-01]\n",
            " [9.9646324e-01]\n",
            " [9.9847889e-01]\n",
            " [9.8927498e-02]\n",
            " [9.9879813e-01]\n",
            " [9.8434883e-01]\n",
            " [1.3693178e-03]\n",
            " [4.4335413e-01]\n",
            " [4.4481933e-01]\n",
            " [9.9529105e-01]\n",
            " [9.7799993e-01]\n",
            " [9.7906357e-01]\n",
            " [9.9845755e-01]\n",
            " [9.1574562e-01]\n",
            " [5.3875190e-01]\n",
            " [6.0351507e-05]\n",
            " [9.3132120e-01]\n",
            " [1.8546561e-02]\n",
            " [9.9905878e-01]\n",
            " [9.9403006e-01]\n",
            " [9.9837261e-01]\n",
            " [3.1544796e-01]\n",
            " [9.9807376e-01]\n",
            " [4.4229678e-06]\n",
            " [9.5019805e-01]\n",
            " [1.6305079e-01]\n",
            " [8.6295491e-01]\n",
            " [9.6292073e-01]\n",
            " [4.3125334e-03]\n",
            " [6.2162656e-01]\n",
            " [9.9907064e-01]\n",
            " [7.7891237e-01]\n",
            " [9.9229974e-01]\n",
            " [2.6698216e-04]\n",
            " [9.8611230e-01]\n",
            " [1.9537941e-04]\n",
            " [1.5617009e-01]\n",
            " [9.9710357e-01]\n",
            " [9.9443811e-01]\n",
            " [3.5199247e-02]\n",
            " [2.5351113e-01]\n",
            " [9.9768186e-01]\n",
            " [5.8456051e-01]\n",
            " [9.9213332e-01]\n",
            " [3.4011468e-02]\n",
            " [6.7357951e-01]\n",
            " [4.2531962e-04]\n",
            " [8.7098128e-01]\n",
            " [9.9356300e-01]\n",
            " [9.9165601e-01]\n",
            " [9.9970728e-01]\n",
            " [9.9893385e-01]\n",
            " [5.5327278e-04]\n",
            " [9.3123960e-01]\n",
            " [9.9204069e-01]\n",
            " [9.5026118e-01]\n",
            " [9.9818558e-01]\n",
            " [9.9697036e-01]\n",
            " [9.5717722e-01]\n",
            " [4.6943495e-01]\n",
            " [9.9649757e-01]\n",
            " [9.9047214e-01]\n",
            " [1.3024309e-03]\n",
            " [9.2331445e-01]\n",
            " [9.9900407e-01]\n",
            " [9.9590820e-01]\n",
            " [6.3322783e-01]\n",
            " [9.7975159e-01]\n",
            " [2.2397395e-03]\n",
            " [9.8176116e-01]\n",
            " [5.0493574e-01]\n",
            " [1.8680561e-01]\n",
            " [1.8738095e-02]\n",
            " [8.0413824e-01]\n",
            " [9.9881512e-01]\n",
            " [9.6697301e-01]\n",
            " [9.8977768e-01]\n",
            " [9.9986428e-01]\n",
            " [9.9722767e-01]\n",
            " [9.8046142e-01]\n",
            " [7.3338725e-07]\n",
            " [9.4022590e-01]\n",
            " [9.9166423e-01]\n",
            " [5.6355827e-02]\n",
            " [9.8320127e-01]\n",
            " [5.7795914e-03]\n",
            " [9.9324358e-01]\n",
            " [9.3185508e-01]\n",
            " [9.6884251e-01]\n",
            " [9.8436701e-01]\n",
            " [9.5424533e-01]\n",
            " [1.8436939e-01]\n",
            " [9.6285677e-01]\n",
            " [8.2531857e-01]\n",
            " [7.7369489e-02]\n",
            " [9.0171504e-01]\n",
            " [3.2998119e-02]\n",
            " [9.8602235e-01]\n",
            " [9.9705863e-01]\n",
            " [2.2792395e-03]\n",
            " [9.8095894e-01]\n",
            " [2.5412744e-02]\n",
            " [9.9030477e-01]\n",
            " [9.0348089e-01]\n",
            " [9.9889970e-01]\n",
            " [1.3578286e-04]\n",
            " [5.3087853e-02]\n",
            " [4.0425438e-02]\n",
            " [9.5638812e-01]\n",
            " [1.8239968e-01]\n",
            " [8.1508129e-04]\n",
            " [4.3259552e-05]\n",
            " [9.4866282e-01]\n",
            " [9.8868668e-01]\n",
            " [9.9246603e-01]\n",
            " [9.9977750e-01]\n",
            " [9.9227583e-01]\n",
            " [1.4249692e-04]\n",
            " [7.0111281e-01]\n",
            " [2.1644353e-04]\n",
            " [9.9957556e-01]\n",
            " [9.9633348e-01]\n",
            " [9.0780830e-01]\n",
            " [4.9397785e-02]\n",
            " [9.8236017e-03]\n",
            " [9.9733102e-01]\n",
            " [7.0873960e-03]\n",
            " [5.6809410e-03]\n",
            " [9.2057721e-04]\n",
            " [9.7239232e-01]\n",
            " [9.9502409e-01]\n",
            " [9.9133581e-01]\n",
            " [4.3281490e-01]\n",
            " [9.8850286e-01]\n",
            " [7.9709417e-01]\n",
            " [8.2346463e-01]\n",
            " [9.6671236e-01]]\n"
          ]
        }
      ]
    },
    {
      "cell_type": "code",
      "source": [
        "#Round to get the actual predictions\n",
        "#Note:@ has to flattened since the targets are sized (N,) while the predictions are size(N, 1)\n",
        "import numpy as np\n",
        "P = np.round(P).flatten()\n",
        "print(P)"
      ],
      "metadata": {
        "colab": {
          "base_uri": "https://localhost:8080/"
        },
        "id": "a7Y6lAeltZYx",
        "outputId": "046d673f-c847-470b-ce73-421739b3f5e3"
      },
      "execution_count": null,
      "outputs": [
        {
          "output_type": "stream",
          "name": "stdout",
          "text": [
            "[1. 1. 1. 1. 1. 1. 1. 1. 0. 1. 1. 1. 1. 0. 0. 1. 1. 1. 1. 1. 1. 1. 1. 0.\n",
            " 0. 1. 0. 1. 0. 0. 1. 1. 1. 1. 0. 1. 1. 1. 0. 1. 1. 0. 1. 1. 0. 0. 0. 0.\n",
            " 1. 0. 1. 1. 1. 1. 0. 1. 1. 0. 0. 0. 1. 1. 1. 1. 1. 1. 0. 1. 0. 1. 1. 1.\n",
            " 0. 1. 0. 1. 0. 1. 1. 0. 1. 1. 1. 1. 0. 1. 0. 0. 1. 1. 0. 0. 1. 1. 1. 0.\n",
            " 1. 0. 1. 1. 1. 1. 1. 0. 1. 1. 1. 1. 1. 1. 0. 1. 1. 0. 1. 1. 1. 1. 1. 0.\n",
            " 1. 1. 0. 0. 1. 1. 1. 1. 1. 1. 1. 0. 1. 1. 0. 1. 0. 1. 1. 1. 1. 1. 0. 1.\n",
            " 1. 0. 1. 0. 1. 1. 0. 1. 0. 1. 1. 1. 0. 0. 0. 1. 0. 0. 0. 1. 1. 1. 1. 1.\n",
            " 0. 1. 0. 1. 1. 1. 0. 0. 1. 0. 0. 0. 1. 1. 1. 0. 1. 1. 1. 1.]\n"
          ]
        }
      ]
    },
    {
      "cell_type": "code",
      "source": [
        "#Calculate the accuracy, compare it to evaluate() output\n",
        "print(\"Manually calculated accuracy:\", np.mean(P == y_test))\n",
        "print(\"Evaluate output:\", model.evaluate(X_test, y_test))"
      ],
      "metadata": {
        "colab": {
          "base_uri": "https://localhost:8080/"
        },
        "id": "9A86wxlduNRu",
        "outputId": "458a4fad-214e-46bd-b0e7-b16c558833a0"
      },
      "execution_count": null,
      "outputs": [
        {
          "output_type": "stream",
          "name": "stdout",
          "text": [
            "Manually calculated accuracy: 0.9787234042553191\n",
            "6/6 [==============================] - 0s 6ms/step - loss: 0.0859 - accuracy: 0.9787\n",
            "Evaluate output: [0.08588272333145142, 0.978723406791687]\n"
          ]
        }
      ]
    },
    {
      "cell_type": "code",
      "source": [],
      "metadata": {
        "id": "J1-4483zvEcu"
      },
      "execution_count": null,
      "outputs": []
    },
    {
      "cell_type": "markdown",
      "source": [
        "# Part 3: Saving and Loading a Model\n",
        "\n"
      ],
      "metadata": {
        "id": "g_QaeAZsr1lB"
      }
    },
    {
      "cell_type": "code",
      "source": [
        "# Save model to a file\n",
        "model.save('linearclassifier.h5')"
      ],
      "metadata": {
        "colab": {
          "base_uri": "https://localhost:8080/"
        },
        "id": "jzTjIGd0sATi",
        "outputId": "06dec236-240b-460d-cdcb-0046712f1921"
      },
      "execution_count": null,
      "outputs": [
        {
          "output_type": "stream",
          "name": "stderr",
          "text": [
            "/usr/local/lib/python3.10/dist-packages/keras/src/engine/training.py:3103: UserWarning: You are saving your model as an HDF5 file via `model.save()`. This file format is considered legacy. We recommend using instead the native Keras format, e.g. `model.save('my_model.keras')`.\n",
            "  saving_api.save_model(\n"
          ]
        }
      ]
    },
    {
      "cell_type": "code",
      "source": [
        "#check that the model file exists\n",
        "!ls -lh"
      ],
      "metadata": {
        "colab": {
          "base_uri": "https://localhost:8080/"
        },
        "id": "jWWNMfn5sXng",
        "outputId": "fed0f83e-c9e8-4f78-8a7e-f165470fe35f"
      },
      "execution_count": null,
      "outputs": [
        {
          "output_type": "stream",
          "name": "stdout",
          "text": [
            "total 24K\n",
            "-rw-r--r-- 1 root root  20K May  6 11:37 linearclassifier.h5\n",
            "drwxr-xr-x 1 root root 4.0K May  2 13:25 sample_data\n"
          ]
        }
      ]
    },
    {
      "cell_type": "code",
      "source": [
        "# Let's load the model and confirm that it still works\n",
        "# Note: there is a bug in Keras where load/save only works if you DON'T use the Input() layer explicitly\n",
        "# So, make sure you define the model with ONLY Dense(1, input_shape=(D,))\n",
        "# At least, until the bug is fixed\n",
        "# https://github.com/keras-team/keras/issues/10417\n",
        "model = tf.keras.models.load_model('linearclassifier.h5')\n",
        "print(model.layers)\n",
        "model.evaluate(X_test, y_test)"
      ],
      "metadata": {
        "id": "rqReX1jkshUO",
        "colab": {
          "base_uri": "https://localhost:8080/"
        },
        "outputId": "ff366a1d-220e-4f36-e1bb-7b392dae33f4"
      },
      "execution_count": null,
      "outputs": [
        {
          "output_type": "stream",
          "name": "stdout",
          "text": [
            "[<keras.src.layers.core.dense.Dense object at 0x7a3d16e92d10>]\n",
            "6/6 [==============================] - 0s 6ms/step - loss: 0.0859 - accuracy: 0.9787\n"
          ]
        },
        {
          "output_type": "execute_result",
          "data": {
            "text/plain": [
              "[0.08588272333145142, 0.978723406791687]"
            ]
          },
          "metadata": {},
          "execution_count": 32
        }
      ]
    },
    {
      "cell_type": "code",
      "source": [
        "  # Download the file -  requires Chrome (at this point)\n",
        "  from google.colab import files\n",
        "  files.download('linearclassifier.h5')"
      ],
      "metadata": {
        "colab": {
          "base_uri": "https://localhost:8080/",
          "height": 17
        },
        "id": "QX8eVsrKwfj4",
        "outputId": "22b65a1f-c159-4e22-dca3-bf17ab07b10f"
      },
      "execution_count": 34,
      "outputs": [
        {
          "output_type": "display_data",
          "data": {
            "text/plain": [
              "<IPython.core.display.Javascript object>"
            ],
            "application/javascript": [
              "\n",
              "    async function download(id, filename, size) {\n",
              "      if (!google.colab.kernel.accessAllowed) {\n",
              "        return;\n",
              "      }\n",
              "      const div = document.createElement('div');\n",
              "      const label = document.createElement('label');\n",
              "      label.textContent = `Downloading \"${filename}\": `;\n",
              "      div.appendChild(label);\n",
              "      const progress = document.createElement('progress');\n",
              "      progress.max = size;\n",
              "      div.appendChild(progress);\n",
              "      document.body.appendChild(div);\n",
              "\n",
              "      const buffers = [];\n",
              "      let downloaded = 0;\n",
              "\n",
              "      const channel = await google.colab.kernel.comms.open(id);\n",
              "      // Send a message to notify the kernel that we're ready.\n",
              "      channel.send({})\n",
              "\n",
              "      for await (const message of channel.messages) {\n",
              "        // Send a message to notify the kernel that we're ready.\n",
              "        channel.send({})\n",
              "        if (message.buffers) {\n",
              "          for (const buffer of message.buffers) {\n",
              "            buffers.push(buffer);\n",
              "            downloaded += buffer.byteLength;\n",
              "            progress.value = downloaded;\n",
              "          }\n",
              "        }\n",
              "      }\n",
              "      const blob = new Blob(buffers, {type: 'application/binary'});\n",
              "      const a = document.createElement('a');\n",
              "      a.href = window.URL.createObjectURL(blob);\n",
              "      a.download = filename;\n",
              "      div.appendChild(a);\n",
              "      a.click();\n",
              "      div.remove();\n",
              "    }\n",
              "  "
            ]
          },
          "metadata": {}
        },
        {
          "output_type": "display_data",
          "data": {
            "text/plain": [
              "<IPython.core.display.Javascript object>"
            ],
            "application/javascript": [
              "download(\"download_6e6cf222-0c1d-4da8-afa3-923115e52ceb\", \"linearclassifier.h5\", 20240)"
            ]
          },
          "metadata": {}
        }
      ]
    },
    {
      "cell_type": "code",
      "source": [],
      "metadata": {
        "id": "FJjQ-24Twku_"
      },
      "execution_count": null,
      "outputs": []
    }
  ]
}